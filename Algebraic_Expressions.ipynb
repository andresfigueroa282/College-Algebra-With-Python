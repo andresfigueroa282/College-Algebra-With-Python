{
 "cells": [
  {
   "cell_type": "markdown",
   "id": "531a2ef3",
   "metadata": {},
   "source": [
    "### Algebraic Expressions with Python\n",
    "\n",
    "**Author:** Andres Figueroa  \n",
    "**Email:** andresfigueroa@brandeis.edu\n",
    "\n",
    "**Description:**\n",
    "This notebook introduces **algebraic expressions** and demonstrates how to represent, simplify, and evaluate them using **Python**.\n",
    "\n",
    "---\n",
    "\n",
    "#### What are Algebraic Expressions?\n",
    "\n",
    "Algebraic expressions are expressions or phrases that consist of the following:\n",
    "- Numbers\n",
    "- Variables\n",
    "- Mathematical Operations\n",
    "\n",
    "##### For Example: \n",
    "##### 3x + 5 = 20\n",
    "\n",
    "- Numbers: `3`, `5`, `20`\n",
    "- Variables: `x`\n",
    "- Mathematical Operations: `+`\n",
    "\n",
    "---\n",
    "\n",
    "#### Importing Libraries\n"
   ]
  },
  {
   "cell_type": "code",
   "execution_count": 1,
   "id": "9498ed7c",
   "metadata": {},
   "outputs": [],
   "source": [
    "from sympy import symbols"
   ]
  },
  {
   "cell_type": "markdown",
   "id": "0b05ab3d",
   "metadata": {},
   "source": [
    "> **Note:** From what I understand sympy is used for symbolic mathematics, so algebra and calulus. From what I gathered, sympy lets us define variables, build algebraic expressions, simplify expressions, substitute values, and solve equations. All things I want 😊."
   ]
  },
  {
   "cell_type": "markdown",
   "id": "50581aad",
   "metadata": {},
   "source": []
  }
 ],
 "metadata": {
  "kernelspec": {
   "display_name": "Python 3",
   "language": "python",
   "name": "python3"
  },
  "language_info": {
   "codemirror_mode": {
    "name": "ipython",
    "version": 3
   },
   "file_extension": ".py",
   "mimetype": "text/x-python",
   "name": "python",
   "nbconvert_exporter": "python",
   "pygments_lexer": "ipython3",
   "version": "3.10.11"
  }
 },
 "nbformat": 4,
 "nbformat_minor": 5
}
